{
 "cells": [
  {
   "cell_type": "markdown",
   "metadata": {},
   "source": [
    "# TP Gonimètre 2 : Evaluation des incertitudes\n",
    "\n",
    "Dans un premier temps, on désire mesurer le pas du réseau utilisé avec le goniomètre et évaluer l'incertitude sur cette mesure.\n",
    "Dans un second temps, on réalisera une courbe d'étalonnage afin de mesurer des longueurs d'ondes avec le goniomètre.\n",
    "\n",
    "## Réglage du goniomètre\n",
    "**Manipulation**\n",
    ">Régler la lunette autocollimatrice à l'aide du dispositif d’éclairage du réticule et du miroir plan.\n",
    ">Une fois la lunette réglée, régler le collimateur. Réduire ensuite la largeur de la fente. Elle doit être la plus fine possible, tout en étant observable."
   ]
  },
  {
   "cell_type": "markdown",
   "metadata": {},
   "source": [
    "## Mesure du pas du réseau\n",
    "\n",
    "On se place à l'ordre 1.\n",
    "On redonne la formule des réseaux au minimum de déviation :\n",
    "$sin(\\frac{D_m}{2})=\\frac{\\lambda}{2a}$\n",
    "\n",
    "**Manipulation**\n",
    "> Réaliser la mesure de la déviation minimale pour les raies exploitables de la lampe de Mercure.\n",
    "> Déterminer la valeur moyenne du pas du réseau et son incertitude-type à l'aide du script Python qui suit.\n",
    "\n",
    "Si on note les N observations $x_i$, alors la moyenne expérimentale $x ̅ $ et l’écart-type expérimental $s_x$ valent par définition :\n",
    "\n",
    "Moyenne expérimentale :\t\t$x ̅=\\frac{1}{N} ∑_{ i=1 } ^ {N} x_i$\n",
    "\n",
    "Ecart-type expérimental\t:\t$s_x= \\sqrt{\\frac{1}{N-1} ∑_{ i=1 } ^ {N}(x_i-x ̅)^2} $\n",
    "\n",
    "\n",
    "L’incertitude-type associée à la moyenne $x ̅ $ de N mesures d’une grandeur X vaut :\n",
    "$u(x ̅ )=\\frac{s_x}{\\sqrt{N}}$\n",
    "\n"
   ]
  },
  {
   "cell_type": "code",
   "execution_count": 2,
   "metadata": {
    "scrolled": true
   },
   "outputs": [
    {
     "name": "stdout",
     "output_type": "stream",
     "text": [
      "La valeur moyenne du pas du réseau est 1.677 µm\n",
      "L'incertitude-type sur la mesure est 39.394 nm\n",
      "Le réseau comporte 596 par mm\n"
     ]
    }
   ],
   "source": [
    "import numpy as np\n",
    "import matplotlib.pyplot as plt\n",
    "import math\n",
    "\n",
    "Dm=[12.5+(19/60),19+(1/4),20+(1/3),20+(24/60),16+(25/6),16.5+(22/60),17.5+(1/3),22.5+(1/10)]  #Liste des valeurs de déviations minimales\n",
    "longueurOnde=[435.8,546.1,577.0,579.1,467.8,480,508.6,643.8]  #Liste des longueurs d'ondes\n",
    "a=[]\n",
    "\n",
    "N=len(Dm)\n",
    "\n",
    "#Calcul de la liste de valeurs de pas de réseau\n",
    "for i in range(N) :\n",
    "    pas=longueurOnde[i]*1e-9/(2*math.sin(math.radians(Dm[i])/2))\n",
    "    a.append(pas)\n",
    "\n",
    "#Calcul de la valeur moyenne et de l'écart-type\n",
    "amoy=np.mean(a)\n",
    "stda = np.std(a,ddof=1)\n",
    "\n",
    "print('La valeur moyenne du pas du réseau est {:.3f} µm'.format(amoy*1e6))\n",
    "print(\"L'incertitude-type sur la mesure est {:.3f} nm\".format(stda*1e9/np.sqrt(N)))\n",
    "print(\"Le réseau comporte {:.0f} par mm\".format(1e-3/amoy))"
   ]
  },
  {
   "cell_type": "markdown",
   "metadata": {},
   "source": [
    "## Courbe d'étalonnage\n",
    "\n",
    "On redonne la formule des réseaux en incidence normale à l'ordre 1 :\n",
    "$sin(\\theta)=\\frac{\\lambda}{a}$\n",
    "\n",
    "**Manipulation**\n",
    ">Eclairer le réseau en incidence normale en expliquant clairement la méthode. Une fois ce réglage fait, il ne doit plus être modifié. Vous utiliserez la lampe de Mercure et celle de Cadmium.\n",
    "\n",
    ">A l'aide du script Python, tracer la courbe d'étalonnage du goniomètre et la modéliser par une droite. \n",
    "\n",
    "La régression linéaire s’obtient avec la fonction np.polyfit(Xexp,Yexp,1). Le dernier argument désigne l’ordre du polynôme par lequel est faite la régression, toujours égal à 1 pour une régression linéaire. Cette fonction renvoie un tableau à deux éléments qui désignent les coefficients de la régression."
   ]
  },
  {
   "cell_type": "code",
   "execution_count": 3,
   "metadata": {},
   "outputs": [
    {
     "data": {
      "application/javascript": [
       "element.append(window._basthonDomNodeBus.pop(0));"
      ]
     },
     "metadata": {},
     "output_type": "display_data"
    }
   ],
   "source": [
    "#Données mesurées\n",
    "theta=np.array([167.5+1/20,171.5+14/120,172.5+1/4,172.5+21/60,168.5+1/4,169+9/60,170+13/60,175+1/4])\n",
    "theta=theta-152+1/5\n",
    "longueurOnde=np.array([435.8,546.1,577.0,579.1,467.8,480,508.6,643.8])\n",
    "pas=amoy\n",
    "\n",
    "#Calcul de sin(theta)\n",
    "sintheta=[]\n",
    "\n",
    "for i in range(len(theta)) :\n",
    "    sinusRadian=math.sin(math.radians(theta[i]))\n",
    "    sintheta.append(sinusRadian)\n",
    "\n",
    "#Utilisatin d'un modèle affine\n",
    "p=np.polyfit(longueurOnde,sintheta,1)\n",
    "modele=p[0]*longueurOnde+p[1]\n",
    "    \n",
    "plt.close()\n",
    "plt.figure()\n",
    "plt.plot(longueurOnde,sintheta,'+')\n",
    "plt.plot(longueurOnde,modele,'r')\n",
    "plt.grid()\n",
    "plt.show()\n",
    "\n"
   ]
  },
  {
   "cell_type": "markdown",
   "metadata": {},
   "source": [
    "## Barres d'incertitude\n",
    "\n",
    "Il faut rajouter sur ce graphique, les barres d'incertitudes (incertitude de type B).\n",
    "Ici, la source d’incertitude prédominante est celle du repérage de l'angle effectué par l’opérateur : il est donc nécessaire d’estimer un intervalle de valeurs à l’intérieur duquel on est sûr que la grandeur mesurée appartient.\n",
    "\n",
    "Pour arriver à exprimer l'incertitude de type B sous forme d'un écart-type, on doit recourir à une loi de probabilité. Dans le cas d’une évaluation de type B, l’incertitude-type s’identifie à l’écart-type de la distribution choisie.\n",
    "\n",
    "Au niveau CPGE, deux cas sont à envisager :\n",
    "- si on n’a aucune autre information qu’une limite basse et une limite haute pour les valeurs de la grandeur mesurée, alors on suppose que la répartition est uniforme entre ces deux bornes (cas a).\n",
    "- si on connait la valeur mesurée et l’incertitude-type associée, mais qu’on ne connait pas la distribution sous-jacente, alors on suppose que la distribution est gaussienne (cas b).\n",
    "\n",
    "Nous nous placerons dans le second cas.\n",
    "\n",
    "Nous cherchons une incertitude-type composée, c'est à dire l’incertitude-type $u(sin(\\theta))$ sur la valeur de la grandeur $sin(\\theta)$ calculée à partir de la mesure de $\\theta$. Pour notre expérience, on peut estimer l'incertitude-type sur chaque mesure d'angle à 2 minutes d'arc.\n",
    "\n",
    "### Détermination d’une incertitude-type composée grâce à la méthode Monte Carlo – Simulation d’un processus aléatoire\n",
    "\n",
    "Nous allons déterminer l'incertitude-type sur chaque valeur de $sin(\\theta)$ grâce à des tirages aléatoires avec une probabilité de distribution gaussienne. On utilisera la méthode de Monte Carlo.\n",
    "\n",
    "La méthode Monte Carlo permet d’étudier la variabilité de la valeur d’une grandeur Y sans utiliser de formule de composition d’incertitudes.\n",
    "Principe :\n",
    "- On écrit l’expression de Y en fonction des grandeurs Xi.\n",
    "- On associe à chaque Xi un intervalle dans lequel sa valeur est supposée appartenir (on suppose les distributions gaussiennes pour simplifier).\n",
    "- On utilise un code Python pour simuler un tirage au sort des valeurs des grandeurs Xi. on utilise np.random.normal(valeur moyenne, ecart-type de la valeur). Il en résulte une valeur de Y. Cette procédure est répétée un très grand nombre de fois (10000 fois ici) et permet d’obtenir un ensemble de valeurs de Y.\n",
    "- On peut alors tracer un histogramme des valeurs potentielles de Y.\n",
    "- Le programme calcule ensuite la valeur moyenne $y ̅ $ et l’incertitude-type associée $u(y ̅)$.\n",
    "\n",
    "\n",
    "**Manipulation**\n",
    ">Appliquer la méthode de Monte Carlo pour déterminer l'incertitude-type sur la première valeur de $sin(\\theta)$ obtenue.\n"
   ]
  },
  {
   "cell_type": "code",
   "execution_count": 7,
   "metadata": {},
   "outputs": [
    {
     "name": "stdout",
     "output_type": "stream",
     "text": [
      "Valeur moyenne de sin(theta1) = 0.34\n",
      "Incertitude-type de sin(theta1) = 0.0005\n"
     ]
    },
    {
     "data": {
      "application/javascript": [
       "element.append(window._basthonDomNodeBus.pop(0));"
      ]
     },
     "metadata": {},
     "output_type": "display_data"
    }
   ],
   "source": [
    "#Incertitude-type sur théta en degré\n",
    "deltaTheta=2/60\n",
    "\n",
    "# Fonction permettant de calculer le sin de théta pour la première valeur de théta mesurée\n",
    "def sinus(angle):\n",
    "    return math.sin(math.radians(angle))\n",
    "\n",
    "# Nombre de tirages aléatoires à effectuer\n",
    "NN = 10000\n",
    "\n",
    "# Simulation MC avec une distribution de probabilité uniforme----------------------------------------------------\n",
    "sintheta1 = [] # initialisation de la liste des valeurs de sin(theta1)\n",
    "\n",
    "for i in range(0,NN):\n",
    "    # Tirage aléatoire d'une valeur de theta[1] dans l'intervalle défini précédemment.\n",
    "    angle = np.random.normal(theta[1],deltaTheta)\n",
    "\n",
    "    # Création de la liste de valeurs de sin(theta1) résultant\n",
    "    sintheta1.append(sinus(angle))\n",
    "    \n",
    "sintheta1moy = np.mean(sintheta1) # valeur moyenne des valeurs de sin(théta)\n",
    "usintheta1 = np.std(sintheta1,ddof=1) # écart-type de la distribution des valeurs de sin(théta)\n",
    "# ddof = 1 permet de calculer l'écart-type de sin(theta1) avec le facteur N - 1.\n",
    "\n",
    "print(\"Valeur moyenne de sin(theta1) = {:.2f}\".format(sintheta1moy))\n",
    "print(\"Incertitude-type de sin(theta1) = {:.4f}\".format(usintheta1))\n",
    "\n",
    "\n",
    "# Tracé de l'histogramme permettant de visualiser la distribution des valeurs de sin(theta) pour la première valeur de théta mesurée\n",
    "plt.close()\n",
    "plt.figure()\n",
    "plt.hist(sintheta1,bins = 'rice')\n",
    "# Python utilise la règle de Rice pour trouver le nombre d'intervalles de l'histogramme, on peut modifier cette valeur, par exemple bins=15.\n",
    "plt.title('Résultat du tirage aléatoire des angles après simulation')\n",
    "plt.xlabel(\"sin(théta)\")\n",
    "plt.show()\n"
   ]
  },
  {
   "cell_type": "markdown",
   "metadata": {},
   "source": [
    "On va comparer le résultat obtenu avec celui calculé avec la formule de propagation des incertitudes.\n",
    "\n",
    "On rappelle que :\n",
    "$\\Delta(sin(\\theta))=cos(\\theta).\\Delta(\\theta)$\n",
    "\n",
    "**Manipulation**\n",
    ">Calculer les incertitudes-type pour chaque valeur de $sin(\\theta)$.\n",
    ">Conclure."
   ]
  },
  {
   "cell_type": "code",
   "execution_count": 4,
   "metadata": {},
   "outputs": [
    {
     "name": "stdout",
     "output_type": "stream",
     "text": [
      "[0.0005644951713848599, 0.0005616892082244784, 0.0005497489926762529, 0.000545993108471611, 0.0005456416642333139]\n"
     ]
    }
   ],
   "source": [
    "# Utilisation de la formule de propagation des incertitudes\n",
    "usintheta1_2=[]\n",
    "\n",
    "for i in range(len(theta)) :\n",
    "    incertitude=math.cos(math.radians(theta[i]))*math.radians(deltaTheta)\n",
    "    usintheta1_2.append(incertitude)\n",
    "\n",
    "print(usintheta1_2)"
   ]
  },
  {
   "cell_type": "markdown",
   "metadata": {},
   "source": [
    "**Conclusion**\n",
    "\n",
    ">On obtient bien la même inceritude-type avec les deux méthodes."
   ]
  },
  {
   "cell_type": "markdown",
   "metadata": {},
   "source": [
    "## Validation du modèle\n",
    "\n",
    "### Définitions\n",
    "#### Résidu\n",
    "Pour une observation donnée, le résidu désigne l’écart algébrique entre la valeur expérimentale obtenue et la valeur prédite par la méthode des moindres carrés (modèle affine obtenu).\n",
    "\n",
    "Le modèle est adapté si la distribution des résidus est aléatoire autour de la valeur nulle.\n",
    "\n",
    "#### Ecart normalisé\n",
    "On définit l’écart normalisé (ou z-score) comme l’écart absolu entre la valeur mesurée x et la valeur de référence $x_{ref}$, divisé par l’incertitude-type :\n",
    "\n",
    "$z=\\frac{\\vert x-x_{ref} \\vert}{u(x)}$\n",
    "z est donc le nombre d’incertitudes-types d’écart entre la valeur mesurée et la valeur de référence.\n",
    "\n",
    "Lorsque z ≤ 2, on considère que le résultat de mesure est compatible avec la valeur de référence.\n",
    "\n",
    "Lorsque z> 2, on considère qu’il ne l’est pas.\n",
    "\n",
    "### Principe de la validation du modèle\n",
    "\n",
    "A un niveau CPGE, la démarche expérimentale doit respecter la procédure d’analyse des résultats expérimentaux suivante :\n",
    "- Représentation graphique des points expérimentaux avec leurs barres d’incertitude (ici nous ne les représenterons pas).\n",
    "- Superposition de la courbe représentative du modèle testé.\n",
    "- Observation graphique des résidus ou des écarts normalisés.\n",
    "- Conclusion : les données expérimentales sont-elles en accord avec le modèle testé ?\n",
    "Dans le cas d’une régression linéaire, le modèle testé est une fonction affine ou linéaire.\n",
    "\n",
    "\n",
    "Pour une observation donnée, le résidu désigne l’écart algébrique entre la valeur expérimentale obtenue et la valeur prédite par la méthode des moindres carrés (équation du modèle).\n",
    "\n",
    "Le modèle est adapté si la distribution des résidus est aléatoire autour de la valeur nulle.\n",
    "\n",
    "**Manipulation**\n",
    ">Représenter les points expérimentaux avec leur barre d'erreur et le modèle affine sur le même graphique\n",
    ">Représenter ensuite les résidus et les écarts normailsés sur deux autres graphiques.\n",
    ">\n",
    ">Conclure sur la validité du modèle."
   ]
  },
  {
   "cell_type": "code",
   "execution_count": 8,
   "metadata": {},
   "outputs": [
    {
     "data": {
      "application/javascript": [
       "element.append(window._basthonDomNodeBus.pop(0));"
      ]
     },
     "metadata": {},
     "output_type": "display_data"
    }
   ],
   "source": [
    "#incertitude sur sin(theta)\n",
    "u_sintheta=[0.005,0.005,0.005,0.005,0.005,0.005,0.005,0.005]\n",
    "\n",
    "\n",
    "#Tracé des graphes\n",
    "plt.close()\n",
    "plt.figure()\n",
    "plt.figure(figsize = (10,15))\n",
    "\n",
    "#Points expérimentaux et modèle\n",
    "plt.subplot(311)\n",
    "plt.plot(longueurOnde,sintheta,'+')\n",
    "plt.plot(longueurOnde,modele,'r',label = \"Modèle affine\")\n",
    "plt.errorbar(longueurOnde, sintheta, yerr = u_sintheta, fmt = 'bo',label = \"Points expérimentaux\")\n",
    "plt.title(\"Courbe d'étalonnage\")\n",
    "plt.xlabel(r\"$\\lambda$ (en nm)\")\n",
    "plt.ylabel(r\"$sin(\\theta)$\")\n",
    "plt.grid(), plt.legend(loc = 'best')\n",
    "\n",
    "sinusTheta=np.array(sintheta)\n",
    "residus = sinusTheta - modele   # calcul des résidus\n",
    "En = residus/u_sintheta  # calcul des écarts normalisés\n",
    "# Remarque : il faut faire l’un ou l’autre, mais pas les deux !!!\n",
    "\n",
    "plt.subplot(312)\n",
    "#Affichage des résidus\n",
    "plt.errorbar(longueurOnde, residus, yerr = u_sintheta, fmt = 'bo')\n",
    "# Pour mieux visualiser la droite correspondant à un résidu nul :\n",
    "plt.plot([400, 650], [0, 0], 'c--')\n",
    "plt.xlabel(r\"$\\lambda$ (en nm)\"), plt.xlim(400, 650)\n",
    "plt.ylabel(r\"résidus\")\n",
    "plt.ticklabel_format(axis = 'y', style = 'sci', scilimits = (0,0))\n",
    "plt.grid()\n",
    "\n",
    "plt.subplot(313)\n",
    "# Affichage des écarts normalisés :\n",
    "plt.plot(longueurOnde, En, 'bo')\n",
    "# Pour mieux visualiser le domaine des En acceptables :\n",
    "plt.fill_between([350, 650], y1 = -2, y2 = 2, color = 'cyan', alpha = .1)\n",
    "plt.xlabel(r\"$\\lambda$ (en nm)\"), plt.xlim(400, 650)\n",
    "plt.ylabel(r\"écarts normalisés\")\n",
    "plt.grid()\n",
    "\n",
    "plt.show()\n",
    "\n"
   ]
  },
  {
   "cell_type": "markdown",
   "metadata": {},
   "source": [
    "## Mesure de longueurs d'onde\n",
    "\n",
    "A l'aide de la courbe d'étalonnage, Etablir les longueurs d'onde présentes dans la lampe de Sodium. Conclure."
   ]
  },
  {
   "cell_type": "code",
   "execution_count": 40,
   "metadata": {},
   "outputs": [
    {
     "name": "stdout",
     "output_type": "stream",
     "text": [
      "Les longueurs donde (en nm) présentes dans la lampe de sodium sont\n",
      "[437.7918638003932, 495.79547475814326]\n"
     ]
    }
   ],
   "source": [
    "mesuresTheta=np.array([###])\n",
    "\n",
    "Lambda=[]\n",
    "for i in range(len(mesuresTheta)):\n",
    "    longOnde=###\n",
    "    Lambda.append(longOnde)\n",
    "\n",
    "print('Les longueurs d''onde (en nm) présentes dans la lampe de sodium sont')\n",
    "print(Lambda)"
   ]
  }
 ],
 "metadata": {
  "kernelspec": {
   "display_name": "Python 3 (ipykernel)",
   "language": "python",
   "name": "python3"
  },
  "language_info": {
   "codemirror_mode": {
    "name": "ipython",
    "version": 3
   },
   "file_extension": ".py",
   "mimetype": "text/x-python",
   "name": "python",
   "nbconvert_exporter": "python",
   "pygments_lexer": "ipython3",
   "version": "3.11.0"
  }
 },
 "nbformat": 4,
 "nbformat_minor": 2
}
