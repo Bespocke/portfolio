{
 "cells": [
  {
   "cell_type": "markdown",
   "metadata": {
    "toc": true
   },
   "source": [
    "<h1><span class=\"tocSkip\"></span></h1>\n",
    "<div class=\"toc\"><ul class=\"toc-item\"><li><span><a href=\"#Echauffement-d'une-barre-en-contact-avec-une-source-chaude\" data-toc-modified-id=\"Echauffement-d'une-barre-en-contact-avec-une-source-chaude-1\">Echauffement d'une barre en contact avec une source chaude</a></span><ul class=\"toc-item\"><li><span><a href=\"#Etude-théorique\" data-toc-modified-id=\"Etude-théorique-1.1\">Etude théorique</a></span></li><li><span><a href=\"#Etude-numérique\" data-toc-modified-id=\"Etude-numérique-1.2\">Etude numérique</a></span><ul class=\"toc-item\"><li><span><a href=\"#Modélisation\" data-toc-modified-id=\"Modélisation-1.2.1\">Modélisation</a></span></li><li><span><a href=\"#Initialisation\" data-toc-modified-id=\"Initialisation-1.2.2\">Initialisation</a></span></li><li><span><a href=\"#Itérations\" data-toc-modified-id=\"Itérations-1.2.3\">Itérations</a></span></li></ul></li><li><span><a href=\"#Pour-aller-plus-loin\" data-toc-modified-id=\"Pour-aller-plus-loin-1.3\">Pour aller plus loin</a></span><ul class=\"toc-item\"><li><span><a href=\"#Puissance-volumique-interne-dans-tout-le-conducteur\" data-toc-modified-id=\"Puissance-volumique-interne-dans-tout-le-conducteur-1.3.1\">Puissance volumique interne dans tout le conducteur</a></span></li><li><span><a href=\"#Puissance-volumique-interne-dans-une-zone-du-conducteur\" data-toc-modified-id=\"Puissance-volumique-interne-dans-une-zone-du-conducteur-1.3.2\">Puissance volumique interne dans une zone du conducteur</a></span></li></ul></li><li><span><a href=\"#Bibliographie\" data-toc-modified-id=\"Bibliographie-1.4\">Bibliographie</a></span></li></ul></li></ul></div>"
   ]
  },
  {
   "cell_type": "markdown",
   "metadata": {},
   "source": [
    "# Echauffement d'une barre en contact avec une source chaude\n",
    "\n",
    "\n",
    "On s'intéresse ici à une barre métallique cylindrique dont la surface latérale est calorifugée. L'extrémité droite de la barre est en contact, supposé parfait, avec l'air de température $T_d = 20°C$. Avant le début de l'expérience, toute la barre est à l'équilibre thermique à la température $T_d$. \n",
    "\n",
    "A l'instant initial, on place l'extrémité gauche de la barre en contact d'une source de chaleur de température $T_g=40°C$. Ce contact est supposé parfait.\n",
    "\n",
    "*L'objectif de cet exercice est de déterminer l'évolution de la température au sein de la barre au cours du temps.*\n",
    "\n",
    "\n",
    "## Etude théorique\n",
    "\n",
    "On appelle désormais $L=0.5m$ la longueur de la barre.\n",
    "\n",
    "> **Question 1**\n",
    ">\n",
    "> Faire un schéma de la situation (on appellera $(Ox)$ l'axe dirigeant la barre) et établir l'équation aux dérivées partielles vérifiées par la température dans la barre. Au bout de combien de temps, en ordre de grandeur, peut-on considérer que le régime permanent est atteint au sein de la barre ? Déterminer alors le champ de température en régime permanent dans la barre.\n",
    "\n",
    "> **Réponse 1**\n",
    "\n",
    "> l'équation aux dérivées partielles vérifiées par la température est : $c\\rho\\frac{\\partial T}{\\partial t} = -\\frac{\\partial j}{\\partial x} = \\lambda\\frac{\\partial^2 T}{\\partial x^2}$  \n",
    ">$ T(x) = Ax + B$ ; $T(0) = 40 = B$ ; $T(L) = 20 = AL + 40$  donc  $A = \\frac{-20}{L}$  \n",
    ">$T(x) = \\frac{-20}{L}x + 40$  \n",
    ">$\\tau = \\frac{L^2}{D} = \\frac{L^2c\\rho}{\\lambda}$ ; $D = 10^{-4}m^2.s^{-1}$\n",
    "\n",
    "\n",
    "## Etude numérique\n",
    "\n",
    "### Modélisation\n",
    "\n",
    "Nous allons dans la suite déterminer la température $T(x,t)$ :\n",
    "* en tout point de la barre\n",
    "* à tout instant de l'expérience considérée.\n",
    "\n",
    "Pour cela, nous allons découper la barre en tronçons de longueur $dx=1cm$.\n",
    "L'étude sera menée sur une durée de $\\Delta t = 45min$, avec un pas temporel de $dt=0.01s$.\n",
    "\n",
    "La fonction $T(x,t)$ sera donc approximée par un tableau ```T[i,j]``` de telle sorte que :\n",
    "$T[i,j]\\simeq T(x=j\\times dx,t=i\\times dt)$.\n",
    "\n",
    "Autrement dit, chaque ligne du tableau correspond à un instant de l'expérience (la ligne ```i=0``` correspondant à l'instant initial). Au sein d'une ligne, on parcourt la barre de gauche (```j=0```) à droite en incrémentant ```j```.\n",
    "\n",
    "Le tableau utilisé est de type ```numpy.array```. On aura de plus besoin du module ```matplotlib.pyplot``` pour effectuer les représentations graphiques du champ de température.\n",
    "\n",
    ">**Question 2**\n",
    ">\n",
    "> Importer les modules nécessaires à l'étude."
   ]
  },
  {
   "cell_type": "code",
   "execution_count": 1,
   "metadata": {},
   "outputs": [],
   "source": [
    "import numpy as np\n",
    "import matplotlib.pyplot as plt"
   ]
  },
  {
   "cell_type": "markdown",
   "metadata": {},
   "source": [
    "### Initialisation\n",
    "\n",
    "On nommera désormais les variables entières ```Nt``` et ```Nx``` correspondant respectivement au nombre de lignes du tableau ```T``` et au nombre de colonnes.\n",
    "\n",
    ">**Question 3**\n",
    ">\n",
    ">Définir ```Nx``` et ```Nt``` sur Python et créer le tableau ```T``` de bonnes dimensions, rempli pour le moment avec des 0 dans chaque case. Créer également les listes ```x``` et ```t``` correspondant respectivement aux valeurs de $x$ pour laquelle la température est évaluée, ainsi qu'aux instants $t$ de calcul."
   ]
  },
  {
   "cell_type": "code",
   "execution_count": 2,
   "metadata": {},
   "outputs": [],
   "source": [
    "dx= 0.01 ##en m\n",
    "dt= 0.01 ##en s\n",
    "\n",
    "L=0.5 ##en m\n",
    "Deltat=45*60 ##en s\n",
    "\n",
    "Nx=50\n",
    "Nt=6000*45\n",
    "\n",
    "x=[i*dx for i in range(Nx)]\n",
    "t=[i*dt for i in range(Nt)]\n",
    "\n",
    "T=np.zeros((Nt,Nx))\n",
    "\n"
   ]
  },
  {
   "cell_type": "markdown",
   "metadata": {},
   "source": [
    ">**Question 4**\n",
    ">\n",
    ">Remplir la première ligne du tableau ```T``` pour spécifier les conditions initiales de l'expérience."
   ]
  },
  {
   "cell_type": "code",
   "execution_count": 3,
   "metadata": {},
   "outputs": [
    {
     "name": "stdout",
     "output_type": "stream",
     "text": [
      "[[40. 20. 20. ... 20. 20. 20.]\n",
      " [ 0.  0.  0. ...  0.  0.  0.]\n",
      " [ 0.  0.  0. ...  0.  0.  0.]\n",
      " ...\n",
      " [ 0.  0.  0. ...  0.  0.  0.]\n",
      " [ 0.  0.  0. ...  0.  0.  0.]\n",
      " [ 0.  0.  0. ...  0.  0.  0.]]\n"
     ]
    }
   ],
   "source": [
    "Tg=40## #NB : on peut travailler indifféramment en °C ou K (on le verra avec le schéma numérique)\n",
    "Td=20##\n",
    "\n",
    "T[0,0]=Tg##\n",
    "for j in range(1,Nx):\n",
    "    T[0,j]=Td\n",
    "print(T)"
   ]
  },
  {
   "cell_type": "markdown",
   "metadata": {},
   "source": [
    ">**Question 5**\n",
    ">\n",
    ">Tracer l'évolution de la température au sein de la barre à l'instant initial."
   ]
  },
  {
   "cell_type": "code",
   "execution_count": 4,
   "metadata": {},
   "outputs": [
    {
     "data": {
      "image/png": "[encoded data removed]",
      "text/plain": [
       "<Figure size 640x480 with 1 Axes>"
      ]
     },
     "metadata": {},
     "output_type": "display_data"
    }
   ],
   "source": [
    "plt.close()\n",
    "plt.figure()\n",
    "plt.plot(x,T[0,:])\n",
    "plt.grid()\n",
    "plt.xlabel(\"Position x (m)\")\n",
    "plt.ylabel(\"Température (°C)\")\n",
    "plt.title(\"Champ de température initial\")\n",
    "plt.show()"
   ]
  },
  {
   "cell_type": "markdown",
   "metadata": {},
   "source": [
    "### Itérations\n",
    "\n",
    ">**Question 6**\n",
    ">\n",
    "> Remplir le tableau ```T``` de manière à imposer, à tout instant, les conditions aux limites aux deux extrémités de la barre."
   ]
  },
  {
   "cell_type": "code",
   "execution_count": 5,
   "metadata": {},
   "outputs": [
    {
     "name": "stdout",
     "output_type": "stream",
     "text": [
      "[[40. 20. 20. ... 20. 20. 20.]\n",
      " [40.  0.  0. ...  0.  0. 20.]\n",
      " [40.  0.  0. ...  0.  0. 20.]\n",
      " ...\n",
      " [40.  0.  0. ...  0.  0. 20.]\n",
      " [40.  0.  0. ...  0.  0. 20.]\n",
      " [40.  0.  0. ...  0.  0. 20.]]\n"
     ]
    }
   ],
   "source": [
    "for i in range (1,Nt): # l'instant initial a déjà été traité\n",
    "    T[i,0]=Tg\n",
    "    T[i,Nx-1]=Td\n",
    "print(T)"
   ]
  },
  {
   "cell_type": "markdown",
   "metadata": {},
   "source": [
    "Il s'agit donc désormais de résoudre l'équation :\n",
    "$$\\frac{\\partial T}{\\partial t} = D \\frac{\\partial^2 T}{\\partial x^2}$$"
   ]
  },
  {
   "cell_type": "markdown",
   "metadata": {},
   "source": [
    ">**Question 7**\n",
    ">\n",
    "> En utilisant l'approximation de la dérivée, exprimer $\\left(\\frac{\\partial T}{\\partial t}\\right)_{i,j}$ en fonction de `T[i,j]` et de la température de cases voisines du tableau dont une d'indice i+1."
   ]
  },
  {
   "cell_type": "markdown",
   "metadata": {},
   "source": [
    "> **Réponse 7**\n",
    "\n",
    ">$\\left(\\frac{\\partial T}{\\partial t}\\right)_{i,j} = \\frac{T[i+1,j] - T[i,j]}{dt}$"
   ]
  },
  {
   "cell_type": "markdown",
   "metadata": {},
   "source": [
    ">**Question 8**\n",
    ">\n",
    ">  Soit une fonction $f$. En écrivant la formule de Taylor à l’ordre 2 pour $f(x+dx)$ et $f(x-dx)$, démontrer que : \n",
    "> $$ f''(x)\\simeq\\frac{f(x+dx)+f(x-dx)-2f(x)}{dx^2}$$"
   ]
  },
  {
   "cell_type": "markdown",
   "metadata": {},
   "source": [
    "> **Réponse 8**  \n",
    ">c'est fait!"
   ]
  },
  {
   "cell_type": "markdown",
   "metadata": {},
   "source": [
    ">**Question 9**\n",
    ">\n",
    "> En déduire l'approximation de $\\left(\\frac{\\partial^2 T}{\\partial x^2}\\right)_{i,j}$ en fonction de `T[i,j]` et de la température de cases voisines du tableau."
   ]
  },
  {
   "cell_type": "markdown",
   "metadata": {},
   "source": [
    "> **Réponse 9**  \n",
    ">Flemme!"
   ]
  },
  {
   "cell_type": "markdown",
   "metadata": {},
   "source": [
    "> **Question 10**\n",
    ">\n",
    "> En déduire que la résolution de l'équation de diffusion thermique dans la barre se ramène au schéma numérique :\n",
    "> $$ T[i+1,j]=T[i,j]+\\frac{D dt}{dx^2} \\left( T[i,j+1]+T[i,j-1]-2T[i,j]\\right)$$"
   ]
  },
  {
   "cell_type": "markdown",
   "metadata": {},
   "source": [
    "> **Réponse 10**  \n",
    ">Evidemment!"
   ]
  },
  {
   "cell_type": "markdown",
   "metadata": {},
   "source": [
    "On peut montrer qu'un tel schéma numérique converge si $\\frac{D dt}{dx^2}<\\frac{1}{2}$ [1]. Avec les valeurs de $dx$ et de $dt$ choisies, cette condition est respectée pour un matériau de coefficient de diffusivité thermique usuelle $D=1.10^{-4} m^2.s^{-1}$. On adoptera donc cette valeur de $D$ pour la suite."
   ]
  },
  {
   "cell_type": "markdown",
   "metadata": {},
   "source": [
    ">**Question 11**\n",
    ">\n",
    "> Implémenter ce schéma numérique pour réaliser le remplissage du tableau ```T``` dans son intégralité."
   ]
  },
  {
   "cell_type": "code",
   "execution_count": 6,
   "metadata": {},
   "outputs": [],
   "source": [
    "D=1e-4\n",
    "\n",
    "for i in range(0,Nt-1): #on remplit à l'indice i+1\n",
    "    for j in range(1,Nx-1): #les conditions aux limites sont déjà fixées\n",
    "        T[i+1,j]=T[i,j]+D*dt/(dx**2)*(T[i,j+1]+T[i,j-1]-2*T[i,j])"
   ]
  },
  {
   "cell_type": "markdown",
   "metadata": {},
   "source": [
    ">**Question 12**\n",
    ">\n",
    "> A l'aide de la fonction ```plt.imshow```, visualiser le tableau ```T``` et commenter. On pourra utiliser l'argument ```aspect=\"auto\"``` pour obtenir une image lisible."
   ]
  },
  {
   "cell_type": "code",
   "execution_count": null,
   "metadata": {},
   "outputs": [],
   "source": [
    "plt.close()\n",
    "plt.figure()\n",
    "plt.imshow(T,aspect=\"auto\")\n",
    "plt.show()"
   ]
  },
  {
   "cell_type": "markdown",
   "metadata": {},
   "source": [
    ">**Question 13**\n",
    ">\n",
    ">Pour différents instants bien choisis, tracer sur un même graphique l'évolution de la température au sein de la barre. Quand est atteint le régime permanent ? Commenter."
   ]
  },
  {
   "cell_type": "code",
   "execution_count": null,
   "metadata": {},
   "outputs": [],
   "source": [
    "instants_min=[0,1,3,6,9,12,15,30,44.9] #instants choisis en minutes\n",
    "\n",
    "plt.close()\n",
    "plt.figure()\n",
    "for k in range(len(instants_min)):\n",
    "    i=int(instants_min[k]*60/dt)\n",
    "    print(i)\n",
    "    plt.plot(x,T[i,:],label=\"t=\"+str(instants_min[k])+\"min\")\n",
    "plt.xlabel(\"Position (m)\")\n",
    "plt.ylabel(\"Température (°C)\")\n",
    "plt.title(\"Evolution de la température dans la barre à différents instants\")\n",
    "plt.legend()\n",
    "plt.grid()\n",
    "\n",
    "             \n",
    "##Temps caractéristgique de diffusion\n",
    "tau_min=(L**2)/D\n",
    "\n",
    "plt.text(0.201,38,\"tau=##=\"+str(tau_min)[0:2]+\"min\")\n",
    "\n",
    "plt.show()"
   ]
  },
  {
   "cell_type": "markdown",
   "metadata": {},
   "source": [
    "## Pour aller plus loin\n",
    "\n",
    "### Puissance volumique interne dans tout le conducteur\n",
    "\n",
    ">**Question 14**\n",
    ">\n",
    ">En s'inspirant de l'étude précédente, simuler la montée en température d'un barreau métallique calorifugé, de résistance $R$, maintenu à une température égale à ses deux extrémités, et parcouru par un courant électrique $I$. \n",
    ">\n",
    ">*On prendra ici des valeurs arbitraires pour R et I*."
   ]
  },
  {
   "cell_type": "markdown",
   "metadata": {},
   "source": [
    "L'équation à résoudre est désormais :\n",
    "$$ \\frac{\\partial T}{\\partial t} = D \\frac{\\partial^2 T}{\\partial x^2} + K$$ avec $K=\\frac{p_V}{\\rho c}$.\n",
    "\n",
    "$p_V=\\frac{RI^2}{SL}$ est la puissance volumique dissipée par effet Joule ($S$ étant la section du barreau), $\\rho$ la masse volumique du barreau et $c$ la capacité thermique massique du barreau.\n",
    "\n",
    "Le schéma numérique associé à cette équation devient alors :\n",
    "$$ T[i+1,j]=T[i,j]+dt\\times \\left(\\frac{D}{dx^2} ( T[i,j+1]+T[i,j-1]-2T[i,j]) + K\\right)  $$\n"
   ]
  },
  {
   "cell_type": "code",
   "execution_count": null,
   "metadata": {},
   "outputs": [],
   "source": [
    "dx=1e-2\n",
    "dt=1e-2\n",
    "\n",
    "L=0.5\n",
    "Deltat=45*60\n",
    "\n",
    "Nx=int(L/dx)+1\n",
    "Nt=int(Deltat/dt)+1\n",
    "\n",
    "x=[j*dx for j in range(Nx)]\n",
    "t=[i*dt for i in range(Nt)]\n",
    "\n",
    "T=np.zeros((Nt,Nx))\n",
    "\n",
    "Tlim=20\n",
    "\n",
    "#initialisation\n",
    "\n",
    "T[0,0]=Tlim\n",
    "for j in range(1,Nx):\n",
    "    T[0,j]=Tlim\n",
    "    \n",
    "#instants ultérieurs\n",
    "\n",
    "for i in range (1,Nt): # l'instant initial a déjà été traité\n",
    "    T[i,0]=Tlim\n",
    "    T[i,-1]=Tlim\n",
    "    \n",
    "K=1 #K est choisie arbitrairement de manière à avoir des résultats graphiques adaptés.\n",
    "D=1e-4\n",
    "\n",
    "for i in range(0,Nt-1): #on remplit à l'indice i+1\n",
    "    for j in range(1,Nx-1): #les conditions aux limites sont déjà fixées\n",
    "        T[i+1,j]=T[i,j]+dt*(D/(dx**2)*(T[i,j+1]+T[i,j-1]-2*T[i,j])+K)\n",
    "        \n",
    "plt.close()\n",
    "plt.figure()\n",
    "plt.imshow(T,aspect=\"auto\")\n",
    "plt.show()"
   ]
  },
  {
   "cell_type": "code",
   "execution_count": null,
   "metadata": {},
   "outputs": [],
   "source": [
    "instants_min=[0,1,3,6,9,12,15,30,44.9] #instants choisis en minutes\n",
    "\n",
    "plt.close()\n",
    "plt.figure()\n",
    "for k in range(len(instants_min)):\n",
    "    i=int(instants_min[k]*60/dt)\n",
    "    plt.plot(x,T[i,:],label=\"t=\"+str(instants_min[k])+\"min\")\n",
    "plt.xlabel(\"Position (m)\")\n",
    "plt.ylabel(\"Température (°C)\")\n",
    "plt.title(\"Evolution de la température dans la barre à différents instants\")\n",
    "plt.legend()\n",
    "plt.grid()\n",
    "\n",
    "plt.show()"
   ]
  },
  {
   "cell_type": "markdown",
   "metadata": {},
   "source": [
    "### Puissance volumique interne dans une zone du conducteur\n",
    "\n",
    "Enfin, pour terminer, on peut étudier le cas où seule une partie du barreau conducteur est soumis à une puissance thermique volumique interne (courant ne circulant que dans une seule zone, ou encore si une portion du matériau est radioactive, etc...). Dans ce cas, la valeur de $K$ dépend de l'indice $j$ de la colonne considérée."
   ]
  },
  {
   "cell_type": "code",
   "execution_count": null,
   "metadata": {},
   "outputs": [],
   "source": [
    "dx=1e-2\n",
    "dt=1e-2\n",
    "\n",
    "L=0.5\n",
    "Deltat=45*60\n",
    "\n",
    "Nx=int(L/dx)+1\n",
    "Nt=int(Deltat/dt)+1\n",
    "\n",
    "x=[j*dx for j in range(Nx)]\n",
    "t=[i*dt for i in range(Nt)]\n",
    "\n",
    "T=np.zeros((Nt,Nx))\n",
    "\n",
    "Tlim=20\n",
    "\n",
    "#initialisation\n",
    "\n",
    "T[0,0]=Tlim\n",
    "for j in range(1,Nx):\n",
    "    T[0,j]=Tlim\n",
    "    \n",
    "#instants ultérieurs\n",
    "\n",
    "for i in range (1,Nt): # l'instant initial a déjà été traité\n",
    "    T[i,0]=Tlim\n",
    "    T[i,-1]=Tlim\n",
    "\n",
    "def K(j):\n",
    "    if j>Nx/4 and j<3*Nx/4 :\n",
    "        return 1\n",
    "    else : return 0\n",
    "\n",
    "D=1e-4\n",
    "\n",
    "for i in range(0,Nt-1): #on remplit à l'indice i+1\n",
    "    for j in range(1,Nx-1): #les conditions aux limites sont déjà fixées\n",
    "        T[i+1,j]=T[i,j]+dt*(D/(dx*dx)*(T[i,j+1]+T[i,j-1]-2*T[i,j])+K(j)) \n",
    "        \n",
    "plt.close()\n",
    "plt.figure()\n",
    "plt.imshow(T,aspect=\"auto\")\n",
    "plt.show()"
   ]
  },
  {
   "cell_type": "code",
   "execution_count": null,
   "metadata": {},
   "outputs": [],
   "source": [
    "instants_min=[0,1,3,6,9,12,15,30,44.9] #instants choisis en minutes\n",
    "\n",
    "plt.close()\n",
    "plt.figure()\n",
    "for k in range(len(instants_min)):\n",
    "    i=int(instants_min[k]*60/dt)\n",
    "    plt.plot(x,T[i,:],label=\"t=\"+str(instants_min[k])+\"min\")\n",
    "plt.xlabel(\"Position (m)\")\n",
    "plt.ylabel(\"Température (°C)\")\n",
    "plt.title(\"Evolution de la température dans la barre à différents instants\")\n",
    "plt.legend()\n",
    "plt.grid()\n",
    "\n",
    "plt.show()"
   ]
  },
  {
   "cell_type": "markdown",
   "metadata": {},
   "source": [
    "## Bibliographie\n",
    "\n",
    "* **[1]** : *1001 codes Python pour la modélisation* - Lionel Uhl - éditions Ellipses."
   ]
  },
  {
   "cell_type": "code",
   "execution_count": null,
   "metadata": {},
   "outputs": [],
   "source": []
  },
  {
   "cell_type": "code",
   "execution_count": null,
   "metadata": {},
   "outputs": [],
   "source": []
  },
  {
   "cell_type": "code",
   "execution_count": null,
   "metadata": {},
   "outputs": [],
   "source": []
  },
  {
   "cell_type": "code",
   "execution_count": null,
   "metadata": {},
   "outputs": [],
   "source": []
  },
  {
   "cell_type": "code",
   "execution_count": null,
   "metadata": {},
   "outputs": [],
   "source": []
  }
 ],
 "metadata": {
  "kernelspec": {
   "display_name": "Python 3 (ipykernel)",
   "language": "python",
   "name": "python3"
  },
  "language_info": {
   "codemirror_mode": {
    "name": "ipython",
    "version": 3
   },
   "file_extension": ".py",
   "mimetype": "text/x-python",
   "name": "python",
   "nbconvert_exporter": "python",
   "pygments_lexer": "ipython3",
   "version": "3.11.0"
  },
  "toc": {
   "base_numbering": 1,
   "nav_menu": {},
   "number_sections": false,
   "sideBar": true,
   "skip_h1_title": false,
   "title_cell": "",
   "title_sidebar": "Sommaire",
   "toc_cell": true,
   "toc_position": {
    "height": "calc(100% - 180px)",
    "left": "10px",
    "top": "150px",
    "width": "273.6px"
   },
   "toc_section_display": true,
   "toc_window_display": true
  }
 },
 "nbformat": 4,
 "nbformat_minor": 4
}
